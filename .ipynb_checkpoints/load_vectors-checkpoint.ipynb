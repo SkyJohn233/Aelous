{
 "cells": [
  {
   "cell_type": "code",
   "execution_count": 19,
   "metadata": {},
   "outputs": [],
   "source": [
    "from tensorflow.keras.preprocessing import sequence\n",
    "from tensorflow.keras.layers import Input, Dense, Flatten, Activation, Lambda\n",
    "from tensorflow.keras.layers import Conv2D, MaxPooling2D, UpSampling2D, Conv2DTranspose, Reshape\n",
    "from tensorflow.keras.models import Model, Sequential\n",
    "import numpy as np\n",
    "import pandas as pd\n",
    "import tensorflow as tf\n",
    "import logging\n",
    "import os\n",
    "logging.basicConfig(format='%(asctime)s : %(levelname)s : %(message)s', level=logging.INFO)"
   ]
  },
  {
   "cell_type": "code",
   "execution_count": 30,
   "metadata": {},
   "outputs": [],
   "source": [
    "def is_nan(x):\n",
    "    return x is np.nan or x != x\n",
    "\n",
    "def RemoveNan(file):\n",
    "    data_nan = pd.read_csv('./data/' + file + '.csv')\n",
    "    data_nan.info()\n",
    "    category = data_nan['NewCategory']\n",
    "    for id in np.arange(len(data_nan)):\n",
    "        if is_nan(category[id]):\n",
    "            data_nan = data_nan.drop(id, axis=0)\n",
    "            # print('remove id: ', id)\n",
    "    print('drop all lines with nan for ', file)\n",
    "    data_nan.to_csv('./data/' + file + '-FullLabel.csv')"
   ]
  },
  {
   "cell_type": "code",
   "execution_count": 31,
   "metadata": {},
   "outputs": [
    {
     "name": "stdout",
     "output_type": "stream",
     "text": [
      "<class 'pandas.core.frame.DataFrame'>\n",
      "RangeIndex: 10397 entries, 0 to 10396\n",
      "Data columns (total 17 columns):\n",
      "Unnamed: 0              10397 non-null int64\n",
      "url                     10397 non-null object\n",
      "categories              799 non-null object\n",
      "is entity               2589 non-null float64\n",
      "html                    10397 non-null object\n",
      "render                  10397 non-null object\n",
      "media_introduction      10397 non-null float64\n",
      "others                  10397 non-null float64\n",
      "location                10397 non-null float64\n",
      "social_media_profile    10397 non-null float64\n",
      "encyclopedia            10397 non-null float64\n",
      "qa_forum                10397 non-null float64\n",
      "shopping_item           10397 non-null float64\n",
      "list                    10397 non-null float64\n",
      "media_player            10397 non-null float64\n",
      "article                 10397 non-null float64\n",
      "NewCategory             4927 non-null object\n",
      "dtypes: float64(11), int64(1), object(5)\n",
      "memory usage: 1.3+ MB\n",
      "drop all lines with nan for  more_label\n"
     ]
    }
   ],
   "source": [
    "RemoveNan('more_label')"
   ]
  },
  {
   "cell_type": "code",
   "execution_count": 32,
   "metadata": {},
   "outputs": [
    {
     "name": "stdout",
     "output_type": "stream",
     "text": [
      "<class 'pandas.core.frame.DataFrame'>\n",
      "RangeIndex: 4927 entries, 0 to 4926\n",
      "Data columns (total 18 columns):\n",
      "Unnamed: 0              4927 non-null int64\n",
      "Unnamed: 0.1            4927 non-null int64\n",
      "url                     4927 non-null object\n",
      "categories              799 non-null object\n",
      "is entity               1722 non-null float64\n",
      "html                    4927 non-null object\n",
      "render                  4927 non-null object\n",
      "media_introduction      4927 non-null float64\n",
      "others                  4927 non-null float64\n",
      "location                4927 non-null float64\n",
      "social_media_profile    4927 non-null float64\n",
      "encyclopedia            4927 non-null float64\n",
      "qa_forum                4927 non-null float64\n",
      "shopping_item           4927 non-null float64\n",
      "list                    4927 non-null float64\n",
      "media_player            4927 non-null float64\n",
      "article                 4927 non-null float64\n",
      "NewCategory             4927 non-null object\n",
      "dtypes: float64(11), int64(2), object(5)\n",
      "memory usage: 693.0+ KB\n"
     ]
    }
   ],
   "source": [
    "data = pd.read_csv('./data/more_label-FullLabel.csv')\n",
    "html_name = data['html']\n",
    "y_train = data['NewCategory']\n",
    "data.info()"
   ]
  },
  {
   "cell_type": "code",
   "execution_count": 42,
   "metadata": {},
   "outputs": [
    {
     "name": "stderr",
     "output_type": "stream",
     "text": [
      "2020-01-16 02:48:16,523 : INFO : 1000 has loaded...\n",
      "2020-01-16 02:48:16,888 : INFO : 2000 has loaded...\n",
      "2020-01-16 02:48:17,229 : INFO : 3000 has loaded...\n",
      "2020-01-16 02:48:17,585 : INFO : 4000 has loaded...\n"
     ]
    },
    {
     "name": "stdout",
     "output_type": "stream",
     "text": [
      "load 4927 vectors done\n"
     ]
    }
   ],
   "source": [
    "# 下面是按照listdir的顺序load vectors，实际应该要按数据对应的html文件的标号来load\n",
    "maxlen = 300 # sequence 取到的长度，用于下面的padding\n",
    "input_dir = '/home/yujie6cs/vectors/'\n",
    "count = 0\n",
    "x = []\n",
    "\n",
    "import re\n",
    "pattern = re.compile(r'\\d+')\n",
    "\n",
    "for id in np.arange(len(html_name)):\n",
    "    count += 1\n",
    "    file_name = 'page' + pattern.findall(html_name[id])[0] + '.npy'\n",
    "    this_x = np.load(os.path.join(input_dir, file_name))\n",
    "    this_x = this_x.tolist()\n",
    "    x.append(this_x)\n",
    "    if count % 1000 == 0:\n",
    "        logging.info('{} has loaded...'.format(count))\n",
    "print('load {} vectors done'.format(count))\n",
    "x = sequence.pad_sequences(x, maxlen=maxlen)"
   ]
  },
  {
   "cell_type": "code",
   "execution_count": 45,
   "metadata": {},
   "outputs": [
    {
     "name": "stdout",
     "output_type": "stream",
     "text": [
      "(4927, 300) (4927,)\n"
     ]
    }
   ],
   "source": [
    "print(x.shape, y_train.shape)"
   ]
  },
  {
   "cell_type": "code",
   "execution_count": null,
   "metadata": {},
   "outputs": [],
   "source": [
    "def GetModel(input_shape=(300,)):\n",
    "    imput_vec = Input(shape=input_shape)\n",
    "    \n",
    "    \n",
    "    # Output Shape: 28x28x1\n",
    "    clf = Model(input_vec, output)\n",
    "    clf.compile(optimizer=tf.keras.optimizers.Adam(0.01),\n",
    "              loss='categorical_crossentropy',\n",
    "              metrics=['acc']) # may add f1_score later\n",
    "    clf.summary()\n",
    "    return autoencoder"
   ]
  },
  {
   "cell_type": "code",
   "execution_count": 41,
   "metadata": {},
   "outputs": [
    {
     "data": {
      "text/plain": [
       "'1113'"
      ]
     },
     "execution_count": 41,
     "metadata": {},
     "output_type": "execute_result"
    }
   ],
   "source": [
    "html_clf = GetModel()\n",
    "html_clf.fit(x, y_train, batch_size=256, epochs=10, verbose=1,\n",
    "                        shuffle=True, validation_split=0.20)"
   ]
  }
 ],
 "metadata": {
  "kernelspec": {
   "display_name": "Python 3",
   "language": "python",
   "name": "python3"
  },
  "language_info": {
   "codemirror_mode": {
    "name": "ipython",
    "version": 3
   },
   "file_extension": ".py",
   "mimetype": "text/x-python",
   "name": "python",
   "nbconvert_exporter": "python",
   "pygments_lexer": "ipython3",
   "version": "3.5.3"
  }
 },
 "nbformat": 4,
 "nbformat_minor": 2
}
