{
 "cells": [
  {
   "cell_type": "code",
   "execution_count": 2,
   "metadata": {},
   "outputs": [
    {
     "name": "stdout",
     "output_type": "stream",
     "text": [
      "Collecting keras\n",
      "\u001b[?25l  Downloading https://files.pythonhosted.org/packages/ad/fd/6bfe87920d7f4fd475acd28500a42482b6b84479832bdc0fe9e589a60ceb/Keras-2.3.1-py2.py3-none-any.whl (377kB)\n",
      "\u001b[K     |████████████████████████████████| 378kB 2.6MB/s eta 0:00:01\n",
      "\u001b[?25hRequirement already satisfied: scipy>=0.14 in /usr/local/lib/python3.5/dist-packages (from keras) (1.4.1)\n",
      "Requirement already satisfied: h5py in /usr/local/lib/python3.5/dist-packages (from keras) (2.10.0)\n",
      "Requirement already satisfied: numpy>=1.9.1 in /usr/local/lib/python3.5/dist-packages (from keras) (1.18.1)\n",
      "Requirement already satisfied: six>=1.9.0 in /usr/local/lib/python3.5/dist-packages (from keras) (1.13.0)\n",
      "Requirement already satisfied: keras-applications>=1.0.6 in /usr/local/lib/python3.5/dist-packages (from keras) (1.0.8)\n",
      "Requirement already satisfied: pyyaml in /usr/local/lib/python3.5/dist-packages (from keras) (5.1.2)\n",
      "Requirement already satisfied: keras-preprocessing>=1.0.5 in /usr/local/lib/python3.5/dist-packages (from keras) (1.1.0)\n",
      "Installing collected packages: keras\n",
      "Successfully installed keras-2.3.1\n"
     ]
    },
    {
     "name": "stderr",
     "output_type": "stream",
     "text": [
      "Using TensorFlow backend.\n"
     ]
    }
   ],
   "source": [
    "!pip install keras\n",
    "from keras.preprocessing import sequence\n",
    "import numpy as np\n",
    "import logging\n",
    "logging.basicConfig(format='%(asctime)s : %(levelname)s : %(message)s', level=logging.INFO)"
   ]
  },
  {
   "cell_type": "code",
   "execution_count": 3,
   "metadata": {},
   "outputs": [],
   "source": [
    "maxlen = 300 # sequence 取到的长度，用于下面的padding\n",
    "input_dir = './vectors/'\n",
    "count = 0\n",
    "x = []"
   ]
  },
  {
   "cell_type": "code",
   "execution_count": 5,
   "metadata": {},
   "outputs": [
    {
     "name": "stderr",
     "output_type": "stream",
     "text": [
      "2020-01-16 02:06:21,204 : INFO : 100 has loaded...\n",
      "2020-01-16 02:06:21,236 : INFO : 200 has loaded...\n",
      "2020-01-16 02:06:21,266 : INFO : 300 has loaded...\n",
      "2020-01-16 02:06:21,299 : INFO : 400 has loaded...\n",
      "2020-01-16 02:06:21,328 : INFO : 500 has loaded...\n",
      "2020-01-16 02:06:21,358 : INFO : 600 has loaded...\n",
      "2020-01-16 02:06:21,392 : INFO : 700 has loaded...\n",
      "2020-01-16 02:06:21,423 : INFO : 800 has loaded...\n",
      "2020-01-16 02:06:21,453 : INFO : 900 has loaded...\n",
      "2020-01-16 02:06:21,482 : INFO : 1000 has loaded...\n",
      "2020-01-16 02:06:21,513 : INFO : 1100 has loaded...\n",
      "2020-01-16 02:06:21,549 : INFO : 1200 has loaded...\n",
      "2020-01-16 02:06:21,580 : INFO : 1300 has loaded...\n",
      "2020-01-16 02:06:21,611 : INFO : 1400 has loaded...\n",
      "2020-01-16 02:06:21,643 : INFO : 1500 has loaded...\n",
      "2020-01-16 02:06:21,674 : INFO : 1600 has loaded...\n",
      "2020-01-16 02:06:21,704 : INFO : 1700 has loaded...\n",
      "2020-01-16 02:06:21,746 : INFO : 1800 has loaded...\n",
      "2020-01-16 02:06:21,778 : INFO : 1900 has loaded...\n",
      "2020-01-16 02:06:21,808 : INFO : 2000 has loaded...\n",
      "2020-01-16 02:06:21,837 : INFO : 2100 has loaded...\n",
      "2020-01-16 02:06:21,868 : INFO : 2200 has loaded...\n",
      "2020-01-16 02:06:21,897 : INFO : 2300 has loaded...\n",
      "2020-01-16 02:06:21,927 : INFO : 2400 has loaded...\n",
      "2020-01-16 02:06:21,959 : INFO : 2500 has loaded...\n",
      "2020-01-16 02:06:21,989 : INFO : 2600 has loaded...\n",
      "2020-01-16 02:06:22,022 : INFO : 2700 has loaded...\n",
      "2020-01-16 02:06:22,052 : INFO : 2800 has loaded...\n",
      "2020-01-16 02:06:22,085 : INFO : 2900 has loaded...\n",
      "2020-01-16 02:06:22,118 : INFO : 3000 has loaded...\n",
      "2020-01-16 02:06:22,148 : INFO : 3100 has loaded...\n",
      "2020-01-16 02:06:22,185 : INFO : 3200 has loaded...\n",
      "2020-01-16 02:06:22,219 : INFO : 3300 has loaded...\n",
      "2020-01-16 02:06:22,251 : INFO : 3400 has loaded...\n",
      "2020-01-16 02:06:22,283 : INFO : 3500 has loaded...\n",
      "2020-01-16 02:06:22,314 : INFO : 3600 has loaded...\n",
      "2020-01-16 02:06:22,344 : INFO : 3700 has loaded...\n",
      "2020-01-16 02:06:22,375 : INFO : 3800 has loaded...\n",
      "2020-01-16 02:06:22,418 : INFO : 3900 has loaded...\n",
      "2020-01-16 02:06:22,447 : INFO : 4000 has loaded...\n",
      "2020-01-16 02:06:22,480 : INFO : 4100 has loaded...\n",
      "2020-01-16 02:06:22,512 : INFO : 4200 has loaded...\n",
      "2020-01-16 02:06:22,547 : INFO : 4300 has loaded...\n",
      "2020-01-16 02:06:22,584 : INFO : 4400 has loaded...\n",
      "2020-01-16 02:06:22,620 : INFO : 4500 has loaded...\n",
      "2020-01-16 02:06:22,656 : INFO : 4600 has loaded...\n",
      "2020-01-16 02:06:22,695 : INFO : 4700 has loaded...\n",
      "2020-01-16 02:06:22,726 : INFO : 4800 has loaded...\n",
      "2020-01-16 02:06:22,759 : INFO : 4900 has loaded...\n",
      "2020-01-16 02:06:22,788 : INFO : 5000 has loaded...\n",
      "2020-01-16 02:06:22,819 : INFO : 5100 has loaded...\n",
      "2020-01-16 02:06:22,852 : INFO : 5200 has loaded...\n",
      "2020-01-16 02:06:22,885 : INFO : 5300 has loaded...\n",
      "2020-01-16 02:06:22,916 : INFO : 5400 has loaded...\n",
      "2020-01-16 02:06:22,947 : INFO : 5500 has loaded...\n",
      "2020-01-16 02:06:22,982 : INFO : 5600 has loaded...\n",
      "2020-01-16 02:06:23,010 : INFO : 5700 has loaded...\n",
      "2020-01-16 02:06:23,041 : INFO : 5800 has loaded...\n",
      "2020-01-16 02:06:23,086 : INFO : 5900 has loaded...\n",
      "2020-01-16 02:06:23,118 : INFO : 6000 has loaded...\n",
      "2020-01-16 02:06:23,148 : INFO : 6100 has loaded...\n",
      "2020-01-16 02:06:23,178 : INFO : 6200 has loaded...\n",
      "2020-01-16 02:06:23,209 : INFO : 6300 has loaded...\n",
      "2020-01-16 02:06:23,240 : INFO : 6400 has loaded...\n",
      "2020-01-16 02:06:23,270 : INFO : 6500 has loaded...\n",
      "2020-01-16 02:06:23,304 : INFO : 6600 has loaded...\n",
      "2020-01-16 02:06:23,334 : INFO : 6700 has loaded...\n",
      "2020-01-16 02:06:23,365 : INFO : 6800 has loaded...\n",
      "2020-01-16 02:06:23,397 : INFO : 6900 has loaded...\n",
      "2020-01-16 02:06:23,426 : INFO : 7000 has loaded...\n",
      "2020-01-16 02:06:23,456 : INFO : 7100 has loaded...\n",
      "2020-01-16 02:06:23,485 : INFO : 7200 has loaded...\n",
      "2020-01-16 02:06:23,514 : INFO : 7300 has loaded...\n",
      "2020-01-16 02:06:23,543 : INFO : 7400 has loaded...\n",
      "2020-01-16 02:06:23,574 : INFO : 7500 has loaded...\n",
      "2020-01-16 02:06:23,603 : INFO : 7600 has loaded...\n",
      "2020-01-16 02:06:23,633 : INFO : 7700 has loaded...\n",
      "2020-01-16 02:06:23,669 : INFO : 7800 has loaded...\n",
      "2020-01-16 02:06:23,700 : INFO : 7900 has loaded...\n",
      "2020-01-16 02:06:23,742 : INFO : 8000 has loaded...\n",
      "2020-01-16 02:06:23,772 : INFO : 8100 has loaded...\n",
      "2020-01-16 02:06:23,800 : INFO : 8200 has loaded...\n",
      "2020-01-16 02:06:23,829 : INFO : 8300 has loaded...\n",
      "2020-01-16 02:06:23,859 : INFO : 8400 has loaded...\n",
      "2020-01-16 02:06:23,893 : INFO : 8500 has loaded...\n",
      "2020-01-16 02:06:23,922 : INFO : 8600 has loaded...\n",
      "2020-01-16 02:06:23,953 : INFO : 8700 has loaded...\n",
      "2020-01-16 02:06:23,983 : INFO : 8800 has loaded...\n",
      "2020-01-16 02:06:24,012 : INFO : 8900 has loaded...\n",
      "2020-01-16 02:06:24,043 : INFO : 9000 has loaded...\n",
      "2020-01-16 02:06:24,077 : INFO : 9100 has loaded...\n",
      "2020-01-16 02:06:24,114 : INFO : 9200 has loaded...\n",
      "2020-01-16 02:06:24,151 : INFO : 9300 has loaded...\n",
      "2020-01-16 02:06:24,180 : INFO : 9400 has loaded...\n",
      "2020-01-16 02:06:24,213 : INFO : 9500 has loaded...\n",
      "2020-01-16 02:06:24,245 : INFO : 9600 has loaded...\n",
      "2020-01-16 02:06:24,276 : INFO : 9700 has loaded...\n",
      "2020-01-16 02:06:24,307 : INFO : 9800 has loaded...\n",
      "2020-01-16 02:06:24,340 : INFO : 9900 has loaded...\n",
      "2020-01-16 02:06:24,388 : INFO : 10000 has loaded...\n",
      "2020-01-16 02:06:24,417 : INFO : 10100 has loaded...\n",
      "2020-01-16 02:06:24,448 : INFO : 10200 has loaded...\n",
      "2020-01-16 02:06:24,478 : INFO : 10300 has loaded...\n",
      "2020-01-16 02:06:24,507 : INFO : 10400 has loaded...\n",
      "2020-01-16 02:06:24,537 : INFO : 10500 has loaded...\n",
      "2020-01-16 02:06:24,570 : INFO : 10600 has loaded...\n",
      "2020-01-16 02:06:24,600 : INFO : 10700 has loaded...\n",
      "2020-01-16 02:06:24,630 : INFO : 10800 has loaded...\n"
     ]
    },
    {
     "name": "stdout",
     "output_type": "stream",
     "text": [
      "load 10829 vectors done\n"
     ]
    }
   ],
   "source": [
    "import os\n",
    "# 下面是按照listdir的顺序load vectors，实际应该要按数据对应的html文件的标号来load\n",
    "for file in os.listdir(input_dir):\n",
    "    count += 1\n",
    "    this_x = np.load(os.path.join(input_dir, file))\n",
    "    this_x = this_x.tolist()\n",
    "    x.append(this_x)\n",
    "    if count % 100 == 0:\n",
    "        logging.info('{} has loaded...'.format(count))\n",
    "print('load {} vectors done'.format(count))\n",
    "x = sequence.pad_sequences(x, maxlen=maxlen)"
   ]
  },
  {
   "cell_type": "code",
   "execution_count": 6,
   "metadata": {},
   "outputs": [
    {
     "data": {
      "text/plain": [
       "array([30802, 50064,  2327, 74523, 36147,  2668, 35241, 47001, 64481,\n",
       "       61213, 18684,  3147, 60083, 64779, 51610, 18684,   597, 50573,\n",
       "        3753, 11436, 60594, 11748, 30802,   776, 40344, 74523, 43236,\n",
       "       23480, 11191, 55236, 10319, 44072, 74523, 21792, 58512, 47679,\n",
       "       72255, 14821, 14278, 63467,  3753, 89057, 53426, 71043,  8582,\n",
       "       65282, 59880, 74523, 33917, 18684,  6436, 78220, 39751, 85540,\n",
       "       11525, 37564, 30317, 56613, 86251, 80125, 24451, 13756, 40984,\n",
       "        8582,  3004, 30317, 18784, 86251, 89176, 68806, 29529, 24451,\n",
       "       58635, 62592, 68806,  3154, 87439,  6189, 74523, 84232, 15723,\n",
       "        3753, 74523, 39189,  6484, 70910, 18684, 79137, 86251, 71491,\n",
       "       74523, 49217,  3753, 67977, 57341, 14278, 39751, 68806, 16590,\n",
       "        4085, 62910, 82175, 68221, 45779, 44280, 54522, 79354, 30802,\n",
       "       84142, 34797,  7216,  8058,  8582, 45779, 85084, 57445, 52389,\n",
       "       64702, 30802, 48319, 56276, 14278, 85175, 44025,  3753,  3716,\n",
       "        8582, 37411, 35938, 15047, 18704, 71988, 84142, 70472, 50681,\n",
       "        8998, 79354,  8582,  1004, 51315, 27684, 18653, 82445, 64779,\n",
       "       56613, 86251, 75154,  8726, 35938, 12021, 70472,  7773, 68221,\n",
       "       74523, 19004, 30802, 18702, 40344, 74523, 30802, 42228, 64702,\n",
       "       30802, 56276, 26683, 35938, 33196, 57859, 28294,  3753, 62989,\n",
       "       67867, 69021, 43383, 45048, 41133, 64779, 24582, 29288, 28294,\n",
       "       50911, 63567, 45779, 19773,  8582,   306, 37114, 50538, 30346,\n",
       "       68672, 74523, 71988, 34313, 64702, 55176, 26683, 84643, 35938,\n",
       "       40100, 57903, 57859, 30802, 13873, 85436, 70472, 55176, 50681,\n",
       "       79354, 66015, 26027, 68672, 74523, 56307,  6189, 74523, 37411,\n",
       "       74523, 56276, 78021, 64779, 67867, 49329, 74523, 84142, 72531,\n",
       "        8582, 74523, 79354, 27684, 50911, 67867,   145, 45779, 54415,\n",
       "        8582,  8046, 74523, 37411, 20390, 57859, 50911, 57903, 85267,\n",
       "       79713, 64452, 68806, 85084, 38572, 67151, 53240, 48319, 15538,\n",
       "       37265, 57903, 79137, 34946,   289, 68806, 74523, 55533, 28025,\n",
       "       70689, 81757, 30802, 56276, 50911, 84643, 68806, 74523, 86156,\n",
       "       28025, 26162, 30802, 56276, 57903, 55176, 48489, 84643, 68806,\n",
       "       74523, 12393, 65608, 28025, 53512, 70472, 79137, 58787, 25775,\n",
       "       63467,  3753, 74523, 54883, 50911, 79137, 43383, 11639, 78627,\n",
       "        4375,  3753, 79354], dtype=int32)"
      ]
     },
     "execution_count": 6,
     "metadata": {},
     "output_type": "execute_result"
    }
   ],
   "source": [
    "x[0]"
   ]
  },
  {
   "cell_type": "code",
   "execution_count": 7,
   "metadata": {},
   "outputs": [
    {
     "data": {
      "text/plain": [
       "(300,)"
      ]
     },
     "execution_count": 7,
     "metadata": {},
     "output_type": "execute_result"
    }
   ],
   "source": [
    "x[0].shape"
   ]
  },
  {
   "cell_type": "code",
   "execution_count": 8,
   "metadata": {},
   "outputs": [
    {
     "data": {
      "text/plain": [
       "(10829, 300)"
      ]
     },
     "execution_count": 8,
     "metadata": {},
     "output_type": "execute_result"
    }
   ],
   "source": [
    "x.shape"
   ]
  },
  {
   "cell_type": "code",
   "execution_count": null,
   "metadata": {},
   "outputs": [],
   "source": []
  }
 ],
 "metadata": {
  "kernelspec": {
   "display_name": "Python 3",
   "language": "python",
   "name": "python3"
  },
  "language_info": {
   "codemirror_mode": {
    "name": "ipython",
    "version": 3
   },
   "file_extension": ".py",
   "mimetype": "text/x-python",
   "name": "python",
   "nbconvert_exporter": "python",
   "pygments_lexer": "ipython3",
   "version": "3.5.3"
  }
 },
 "nbformat": 4,
 "nbformat_minor": 2
}
