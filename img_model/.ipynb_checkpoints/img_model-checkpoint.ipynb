{
 "cells": [
  {
   "cell_type": "code",
   "execution_count": 2,
   "metadata": {},
   "outputs": [],
   "source": [
    "from tensorflow.keras.layers import Input, Dense, Flatten, Activation, Lambda\n",
    "from tensorflow.keras.layers import Conv2D, MaxPooling2D, UpSampling2D, Conv2DTranspose, Reshape\n",
    "from tensorflow.keras.models import Model, Sequential\n",
    "from tensorflow.keras import regularizers\n",
    "from sklearn.model_selection import train_test_split\n",
    "from sklearn.linear_model import LogisticRegression\n",
    "from sklearn.metrics import classification_report, accuracy_score\n",
    "import pandas as pd\n",
    "import os\n",
    "from sklearn.feature_extraction.text import CountVectorizer\n",
    "from sklearn.feature_extraction.text import TfidfVectorizer\n",
    "from sklearn.feature_extraction.text import TfidfTransformer\n",
    "import numpy as np\n",
    "import tensorflow as tf\n",
    "from tensorflow.keras import backend as K"
   ]
  },
  {
   "cell_type": "code",
   "execution_count": 7,
   "metadata": {},
   "outputs": [],
   "source": [
    "IMG_WIDTH, IMG_HEIGHT = 224,224\n",
    "def decode_img(img):\n",
    "  # convert the compressed string to a 3D uint8 tensor\n",
    "  img = tf.image.decode_png(img, channels=3)\n",
    "  # Use `convert_image_dtype` to convert to floats in the [0,1] range.\n",
    "  img = tf.image.convert_image_dtype(img, tf.float32)\n",
    "  # resize the image to the desired size.\n",
    "  img_resize = tf.image.resize(img, [IMG_WIDTH, IMG_HEIGHT])\n",
    "  return img_resize\n",
    "\n",
    "def process_train(file_path):\n",
    "  # label = get_label(file_path)\n",
    "  # load the raw data from the file as a string\n",
    "  img = tf.io.read_file(file_path)\n",
    "  img = decode_img(img)\n",
    "  return img"
   ]
  },
  {
   "cell_type": "code",
   "execution_count": 51,
   "metadata": {},
   "outputs": [
    {
     "name": "stdout",
     "output_type": "stream",
     "text": [
      "1000 has loaded...\n",
      "2000 has loaded...\n",
      "3000 has loaded...\n",
      "4000 has loaded...\n",
      "load 4927 renders done\n"
     ]
    }
   ],
   "source": [
    "data = pd.read_csv('../data/more_label-FullLabel.csv')\n",
    "render = data['render']\n",
    "input_dir = '/home/yujie6cs/render/'\n",
    "count = 0\n",
    "x = np.ndarray([len(render), 224, 224, 3])\n",
    "import logging\n",
    "import re\n",
    "pattern = re.compile(r'\\d+')\n",
    "\n",
    "for id in np.arange(len(render)):\n",
    "    count += 1\n",
    "    file_name = 'render' + pattern.findall(render[id])[0] + '.png'\n",
    "    this_x = process_train(os.path.join(input_dir, file_name))\n",
    "    # this_x = this_x.tolist()\n",
    "    # x.append(this_x)\n",
    "    x[id] = this_x\n",
    "    if count % 1000 == 0:\n",
    "        print('{} has loaded...'.format(count))\n",
    "print('load {} renders done'.format(count))"
   ]
  },
  {
   "cell_type": "code",
   "execution_count": 54,
   "metadata": {},
   "outputs": [
    {
     "name": "stdout",
     "output_type": "stream",
     "text": [
      "(4927, 224, 224, 3) (4927, 10)\n"
     ]
    }
   ],
   "source": [
    "cate = ['media_introduction', 'others', 'location', 'social_media_profile', 'encyclopedia', \\\n",
    "            'qa_forum', 'shopping_item', 'list', 'media_player', 'article']\n",
    "y_train = data[cate]\n",
    "\n",
    "print(x.shape, y_train.shape)"
   ]
  },
  {
   "cell_type": "code",
   "execution_count": 60,
   "metadata": {},
   "outputs": [
    {
     "name": "stdout",
     "output_type": "stream",
     "text": [
      "Model: \"model_4\"\n",
      "_________________________________________________________________\n",
      "Layer (type)                 Output Shape              Param #   \n",
      "=================================================================\n",
      "input_6 (InputLayer)         [(None, 224, 224, 3)]     0         \n",
      "_________________________________________________________________\n",
      "conv2d_37 (Conv2D)           (None, 224, 224, 16)      448       \n",
      "_________________________________________________________________\n",
      "max_pooling2d_32 (MaxPooling (None, 112, 112, 16)      0         \n",
      "_________________________________________________________________\n",
      "conv2d_38 (Conv2D)           (None, 112, 112, 8)       1160      \n",
      "_________________________________________________________________\n",
      "max_pooling2d_33 (MaxPooling (None, 56, 56, 8)         0         \n",
      "_________________________________________________________________\n",
      "conv2d_39 (Conv2D)           (None, 56, 56, 4)         292       \n",
      "_________________________________________________________________\n",
      "max_pooling2d_34 (MaxPooling (None, 28, 28, 4)         0         \n",
      "_________________________________________________________________\n",
      "conv2d_40 (Conv2D)           (None, 28, 28, 2)         74        \n",
      "_________________________________________________________________\n",
      "max_pooling2d_35 (MaxPooling (None, 14, 14, 2)         0         \n",
      "_________________________________________________________________\n",
      "conv2d_41 (Conv2D)           (None, 14, 14, 1)         19        \n",
      "_________________________________________________________________\n",
      "flatten_10 (Flatten)         (None, 196)               0         \n",
      "_________________________________________________________________\n",
      "dense_30 (Dense)             (None, 128)               25216     \n",
      "_________________________________________________________________\n",
      "dense_31 (Dense)             (None, 64)                8256      \n",
      "_________________________________________________________________\n",
      "dense_32 (Dense)             (None, 10)                650       \n",
      "=================================================================\n",
      "Total params: 36,115\n",
      "Trainable params: 36,115\n",
      "Non-trainable params: 0\n",
      "_________________________________________________________________\n",
      "Model: \"model_4\"\n",
      "_________________________________________________________________\n",
      "Layer (type)                 Output Shape              Param #   \n",
      "=================================================================\n",
      "input_6 (InputLayer)         [(None, 224, 224, 3)]     0         \n",
      "_________________________________________________________________\n",
      "conv2d_37 (Conv2D)           (None, 224, 224, 16)      448       \n",
      "_________________________________________________________________\n",
      "max_pooling2d_32 (MaxPooling (None, 112, 112, 16)      0         \n",
      "_________________________________________________________________\n",
      "conv2d_38 (Conv2D)           (None, 112, 112, 8)       1160      \n",
      "_________________________________________________________________\n",
      "max_pooling2d_33 (MaxPooling (None, 56, 56, 8)         0         \n",
      "_________________________________________________________________\n",
      "conv2d_39 (Conv2D)           (None, 56, 56, 4)         292       \n",
      "_________________________________________________________________\n",
      "max_pooling2d_34 (MaxPooling (None, 28, 28, 4)         0         \n",
      "_________________________________________________________________\n",
      "conv2d_40 (Conv2D)           (None, 28, 28, 2)         74        \n",
      "_________________________________________________________________\n",
      "max_pooling2d_35 (MaxPooling (None, 14, 14, 2)         0         \n",
      "_________________________________________________________________\n",
      "conv2d_41 (Conv2D)           (None, 14, 14, 1)         19        \n",
      "_________________________________________________________________\n",
      "flatten_10 (Flatten)         (None, 196)               0         \n",
      "_________________________________________________________________\n",
      "dense_30 (Dense)             (None, 128)               25216     \n",
      "_________________________________________________________________\n",
      "dense_31 (Dense)             (None, 64)                8256      \n",
      "_________________________________________________________________\n",
      "dense_32 (Dense)             (None, 10)                650       \n",
      "=================================================================\n",
      "Total params: 36,115\n",
      "Trainable params: 36,115\n",
      "Non-trainable params: 0\n",
      "_________________________________________________________________\n"
     ]
    }
   ],
   "source": [
    "from tensorflow.keras import regularizers\n",
    "\n",
    "def GetModel():\n",
    "    input_img = Input(shape=(224, 224, 3))\n",
    "\n",
    "    x = Conv2D(16, (3, 3), activation='relu', padding='same')(input_img)\n",
    "    x = MaxPooling2D((2, 2), padding='same', strides=(2, 2))(x)\n",
    "    x = Conv2D(8, (3, 3), activation='relu', padding='same')(x)\n",
    "    x = MaxPooling2D((2, 2), padding='same', strides=(2, 2))(x)\n",
    "    x = Conv2D(4, (3, 3), activation='relu', padding='same')(x)\n",
    "    x = MaxPooling2D((2, 2), padding='same', strides=(2, 2))(x)\n",
    "    x = Conv2D(2, (3, 3), activation='relu', padding='same')(x)\n",
    "    x = MaxPooling2D((2, 2), padding='same', strides=(2, 2))(x)\n",
    "    x = Conv2D(1, (3, 3), activation='relu', padding='same')(x)\n",
    "    x = Flatten()(x)\n",
    "    x = Dense(128, activation='relu')(x)\n",
    "    x = Dense(64, activation='relu')(x)\n",
    "    output = Dense(10, activation='softmax')(x)\n",
    "    \n",
    "    model = Model(input_img, output)\n",
    "    model.compile(optimizer=tf.keras.optimizers.Adam(0.0001),\n",
    "              loss='categorical_crossentropy', metrics=['acc']) # may add f1_score later\n",
    "    model.summary()\n",
    "    return model\n",
    "    \n",
    "\n",
    "img_clf = GetModel()\n",
    "img_clf.summary()"
   ]
  },
  {
   "cell_type": "code",
   "execution_count": null,
   "metadata": {},
   "outputs": [
    {
     "name": "stdout",
     "output_type": "stream",
     "text": [
      "Train on 3941 samples, validate on 986 samples\n",
      "Epoch 1/20\n",
      "3941/3941 [==============================] - 29s 7ms/sample - loss: 2.3104 - acc: 0.4240 - val_loss: 2.3013 - val_acc: 0.9422\n",
      "Epoch 2/20\n",
      "3941/3941 [==============================] - 28s 7ms/sample - loss: 2.2979 - acc: 0.7843 - val_loss: 2.2847 - val_acc: 0.9483\n",
      "Epoch 3/20\n",
      "3941/3941 [==============================] - 29s 7ms/sample - loss: 2.2824 - acc: 0.7853 - val_loss: 2.2618 - val_acc: 0.9483\n",
      "Epoch 4/20\n",
      "3941/3941 [==============================] - 28s 7ms/sample - loss: 2.2598 - acc: 0.7853 - val_loss: 2.2262 - val_acc: 0.9483\n",
      "Epoch 5/20\n",
      "3941/3941 [==============================] - 28s 7ms/sample - loss: 2.2227 - acc: 0.7853 - val_loss: 2.1641 - val_acc: 0.9483\n",
      "Epoch 6/20\n",
      "3941/3941 [==============================] - 28s 7ms/sample - loss: 2.1547 - acc: 0.7853 - val_loss: 2.0423 - val_acc: 0.9483\n",
      "Epoch 7/20\n",
      "3941/3941 [==============================] - 28s 7ms/sample - loss: 2.0168 - acc: 0.7853 - val_loss: 1.7872 - val_acc: 0.9483\n",
      "Epoch 8/20\n",
      "3941/3941 [==============================] - 28s 7ms/sample - loss: 1.7520 - acc: 0.7853 - val_loss: 1.3313 - val_acc: 0.9483\n",
      "Epoch 9/20\n",
      "3941/3941 [==============================] - 28s 7ms/sample - loss: 1.4654 - acc: 0.7853 - val_loss: 0.9981 - val_acc: 0.9483\n",
      "Epoch 10/20\n",
      "3941/3941 [==============================] - 29s 7ms/sample - loss: 1.3921 - acc: 0.7853 - val_loss: 0.9229 - val_acc: 0.9483\n",
      "Epoch 11/20\n",
      "3941/3941 [==============================] - 28s 7ms/sample - loss: 1.3625 - acc: 0.7856 - val_loss: 0.9252 - val_acc: 0.9483\n",
      "Epoch 12/20\n",
      "3941/3941 [==============================] - 28s 7ms/sample - loss: 1.3499 - acc: 0.7876 - val_loss: 0.8982 - val_acc: 0.9483\n",
      "Epoch 13/20\n",
      "1024/3941 [======>.......................] - ETA: 19s - loss: 1.3365 - acc: 0.7930"
     ]
    }
   ],
   "source": [
    "img_clf.fit(x, y_train, batch_size=256, epochs=20, verbose=1,\n",
    "                        shuffle=True, validation_split=0.20)\n",
    "# html_clf.fit(x, y_train, batch_size=512, epochs=10, verbose=1,\n",
    "#                        shuffle=True, validation_split=0.20)\n",
    "\n",
    "img_clf.save('../saved_model/img_clf.h5')"
   ]
  },
  {
   "cell_type": "code",
   "execution_count": null,
   "metadata": {},
   "outputs": [],
   "source": []
  }
 ],
 "metadata": {
  "kernelspec": {
   "display_name": "Python 3",
   "language": "python",
   "name": "python3"
  },
  "language_info": {
   "codemirror_mode": {
    "name": "ipython",
    "version": 3
   },
   "file_extension": ".py",
   "mimetype": "text/x-python",
   "name": "python",
   "nbconvert_exporter": "python",
   "pygments_lexer": "ipython3",
   "version": "3.5.3"
  }
 },
 "nbformat": 4,
 "nbformat_minor": 2
}
