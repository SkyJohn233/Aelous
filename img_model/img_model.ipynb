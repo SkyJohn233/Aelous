{
 "cells": [
  {
   "cell_type": "code",
   "execution_count": 1,
   "metadata": {},
   "outputs": [],
   "source": [
    "from tensorflow.keras.layers import Input, Dense, Flatten, Activation, Lambda\n",
    "from tensorflow.keras.layers import Conv2D, MaxPooling2D, UpSampling2D, Conv2DTranspose, Reshape\n",
    "from tensorflow.keras.models import Model, Sequential\n",
    "from tensorflow.keras import regularizers\n",
    "from sklearn.model_selection import train_test_split\n",
    "from sklearn.linear_model import LogisticRegression\n",
    "from sklearn.metrics import classification_report, accuracy_score\n",
    "import pandas as pd\n",
    "import os\n",
    "from sklearn.feature_extraction.text import CountVectorizer\n",
    "from sklearn.feature_extraction.text import TfidfVectorizer\n",
    "from sklearn.feature_extraction.text import TfidfTransformer\n",
    "import numpy as np\n",
    "import tensorflow as tf\n",
    "from tensorflow.keras import backend as K"
   ]
  },
  {
   "cell_type": "code",
   "execution_count": 2,
   "metadata": {},
   "outputs": [],
   "source": [
    "IMG_WIDTH, IMG_HEIGHT = 224,224\n",
    "def decode_img(img):\n",
    "  # convert the compressed string to a 3D uint8 tensor\n",
    "  img = tf.image.decode_png(img, channels=3)\n",
    "  # Use `convert_image_dtype` to convert to floats in the [0,1] range.\n",
    "  img = tf.image.convert_image_dtype(img, tf.float32)\n",
    "  # resize the image to the desired size.\n",
    "  img_resize = tf.image.resize(img, [IMG_WIDTH, IMG_HEIGHT])\n",
    "  return img_resize\n",
    "\n",
    "def process_train(file_path):\n",
    "  # label = get_label(file_path)\n",
    "  # load the raw data from the file as a string\n",
    "  img = tf.io.read_file(file_path)\n",
    "  img = decode_img(img)\n",
    "  return img"
   ]
  },
  {
   "cell_type": "code",
   "execution_count": 3,
   "metadata": {},
   "outputs": [
    {
     "name": "stdout",
     "output_type": "stream",
     "text": [
      "1000 has loaded...\n",
      "2000 has loaded...\n",
      "3000 has loaded...\n",
      "4000 has loaded...\n",
      "load 4927 renders done\n"
     ]
    }
   ],
   "source": [
    "data = pd.read_csv('../data/more_label-FullLabel.csv')\n",
    "render = data['render']\n",
    "input_dir = '/home/yujie6cs/render/'\n",
    "count = 0\n",
    "x = np.ndarray([len(render), 224, 224, 3])\n",
    "import logging\n",
    "import re\n",
    "pattern = re.compile(r'\\d+')\n",
    "\n",
    "for id in np.arange(len(render)):\n",
    "    count += 1\n",
    "    file_name = 'render' + pattern.findall(render[id])[0] + '.png'\n",
    "    this_x = process_train(os.path.join(input_dir, file_name))\n",
    "    # this_x = this_x.tolist()\n",
    "    # x.append(this_x)\n",
    "    x[id] = this_x\n",
    "    if count % 1000 == 0:\n",
    "        print('{} has loaded...'.format(count))\n",
    "print('load {} renders done'.format(count))"
   ]
  },
  {
   "cell_type": "code",
   "execution_count": 4,
   "metadata": {},
   "outputs": [
    {
     "name": "stdout",
     "output_type": "stream",
     "text": [
      "(4927, 224, 224, 3) (4927, 10)\n"
     ]
    }
   ],
   "source": [
    "cate = ['media_introduction', 'others', 'location', 'social_media_profile', 'encyclopedia', \\\n",
    "            'qa_forum', 'shopping_item', 'list', 'media_player', 'article']\n",
    "y_train = data[cate]\n",
    "\n",
    "print(x.shape, y_train.shape)"
   ]
  },
  {
   "cell_type": "code",
   "execution_count": 7,
   "metadata": {},
   "outputs": [
    {
     "name": "stdout",
     "output_type": "stream",
     "text": [
      "Model: \"model_1\"\n",
      "_________________________________________________________________\n",
      "Layer (type)                 Output Shape              Param #   \n",
      "=================================================================\n",
      "input_2 (InputLayer)         [(None, 224, 224, 3)]     0         \n",
      "_________________________________________________________________\n",
      "conv2d_5 (Conv2D)            (None, 224, 224, 16)      448       \n",
      "_________________________________________________________________\n",
      "max_pooling2d_4 (MaxPooling2 (None, 112, 112, 16)      0         \n",
      "_________________________________________________________________\n",
      "conv2d_6 (Conv2D)            (None, 112, 112, 8)       1160      \n",
      "_________________________________________________________________\n",
      "max_pooling2d_5 (MaxPooling2 (None, 56, 56, 8)         0         \n",
      "_________________________________________________________________\n",
      "conv2d_7 (Conv2D)            (None, 56, 56, 4)         292       \n",
      "_________________________________________________________________\n",
      "max_pooling2d_6 (MaxPooling2 (None, 28, 28, 4)         0         \n",
      "_________________________________________________________________\n",
      "conv2d_8 (Conv2D)            (None, 28, 28, 2)         74        \n",
      "_________________________________________________________________\n",
      "max_pooling2d_7 (MaxPooling2 (None, 14, 14, 2)         0         \n",
      "_________________________________________________________________\n",
      "conv2d_9 (Conv2D)            (None, 14, 14, 1)         19        \n",
      "_________________________________________________________________\n",
      "flatten_1 (Flatten)          (None, 196)               0         \n",
      "_________________________________________________________________\n",
      "dense_3 (Dense)              (None, 128)               25216     \n",
      "_________________________________________________________________\n",
      "dense_4 (Dense)              (None, 64)                8256      \n",
      "_________________________________________________________________\n",
      "dense_5 (Dense)              (None, 10)                650       \n",
      "=================================================================\n",
      "Total params: 36,115\n",
      "Trainable params: 36,115\n",
      "Non-trainable params: 0\n",
      "_________________________________________________________________\n"
     ]
    }
   ],
   "source": [
    "from tensorflow.keras import regularizers\n",
    "\n",
    "def GetModel():\n",
    "    input_img = Input(shape=(224, 224, 3))\n",
    "\n",
    "    x = Conv2D(16, (3, 3), activation='relu', padding='same')(input_img)\n",
    "    x = MaxPooling2D((2, 2), padding='same', strides=(2, 2))(x)\n",
    "    x = Conv2D(8, (3, 3), activation='relu', padding='same')(x)\n",
    "    x = MaxPooling2D((2, 2), padding='same', strides=(2, 2))(x)\n",
    "    x = Conv2D(4, (3, 3), activation='relu', padding='same')(x)\n",
    "    x = MaxPooling2D((2, 2), padding='same', strides=(2, 2))(x)\n",
    "    x = Conv2D(2, (3, 3), activation='relu', padding='same')(x)\n",
    "    x = MaxPooling2D((2, 2), padding='same', strides=(2, 2))(x)\n",
    "    x = Conv2D(1, (3, 3), activation='relu', padding='same')(x)\n",
    "    x = Flatten()(x)\n",
    "    x = Dense(128, activation='relu')(x)\n",
    "    x = Dense(64, activation='relu')(x)\n",
    "    output = Dense(10, activation='softmax')(x)\n",
    "    \n",
    "    model = Model(input_img, output)\n",
    "    model.compile(optimizer=tf.keras.optimizers.Adam(0.0001),\n",
    "              loss='categorical_crossentropy', metrics=['acc']) # may add f1_score later\n",
    "    return model\n",
    "    \n",
    "\n",
    "img_clf = GetModel()\n",
    "img_clf.summary()"
   ]
  },
  {
   "cell_type": "code",
   "execution_count": 8,
   "metadata": {},
   "outputs": [
    {
     "name": "stdout",
     "output_type": "stream",
     "text": [
      "Train on 3941 samples, validate on 986 samples\n",
      "Epoch 1/20\n",
      "3941/3941 [==============================] - 29s 7ms/sample - loss: 2.2975 - acc: 0.5537 - val_loss: 2.2717 - val_acc: 0.9026\n",
      "Epoch 2/20\n",
      "3941/3941 [==============================] - 28s 7ms/sample - loss: 2.2565 - acc: 0.7549 - val_loss: 2.2005 - val_acc: 0.9432\n",
      "Epoch 3/20\n",
      "3941/3941 [==============================] - 28s 7ms/sample - loss: 2.1737 - acc: 0.7790 - val_loss: 2.0475 - val_acc: 0.9483\n",
      "Epoch 4/20\n",
      "3941/3941 [==============================] - 29s 7ms/sample - loss: 1.9986 - acc: 0.7851 - val_loss: 1.7320 - val_acc: 0.9483\n",
      "Epoch 5/20\n",
      "3941/3941 [==============================] - 28s 7ms/sample - loss: 1.6831 - acc: 0.7853 - val_loss: 1.2053 - val_acc: 0.9483\n",
      "Epoch 6/20\n",
      "3941/3941 [==============================] - 28s 7ms/sample - loss: 1.4026 - acc: 0.7853 - val_loss: 0.9092 - val_acc: 0.9483\n",
      "Epoch 7/20\n",
      "3941/3941 [==============================] - 29s 7ms/sample - loss: 1.3502 - acc: 0.7869 - val_loss: 0.8989 - val_acc: 0.9483\n",
      "Epoch 8/20\n",
      "3941/3941 [==============================] - 29s 7ms/sample - loss: 1.3346 - acc: 0.7973 - val_loss: 0.8935 - val_acc: 0.9483\n",
      "Epoch 9/20\n",
      "3941/3941 [==============================] - 29s 7ms/sample - loss: 1.3237 - acc: 0.7983 - val_loss: 0.8959 - val_acc: 0.9483\n",
      "Epoch 10/20\n",
      "3941/3941 [==============================] - 29s 7ms/sample - loss: 1.3164 - acc: 0.8028 - val_loss: 0.8888 - val_acc: 0.9483\n",
      "Epoch 11/20\n",
      "3941/3941 [==============================] - 29s 7ms/sample - loss: 1.3109 - acc: 0.8044 - val_loss: 0.8861 - val_acc: 0.9473\n",
      "Epoch 12/20\n",
      "3941/3941 [==============================] - 29s 7ms/sample - loss: 1.3057 - acc: 0.8051 - val_loss: 0.8857 - val_acc: 0.9473\n",
      "Epoch 13/20\n",
      "3941/3941 [==============================] - 29s 7ms/sample - loss: 1.3012 - acc: 0.8051 - val_loss: 0.8875 - val_acc: 0.9473\n",
      "Epoch 14/20\n",
      "3941/3941 [==============================] - 29s 7ms/sample - loss: 1.2969 - acc: 0.8059 - val_loss: 0.8817 - val_acc: 0.9462\n",
      "Epoch 15/20\n",
      "3941/3941 [==============================] - 29s 7ms/sample - loss: 1.2935 - acc: 0.8066 - val_loss: 0.8817 - val_acc: 0.9462\n",
      "Epoch 16/20\n",
      "3941/3941 [==============================] - 29s 7ms/sample - loss: 1.2899 - acc: 0.8074 - val_loss: 0.8877 - val_acc: 0.9462\n",
      "Epoch 17/20\n",
      "3941/3941 [==============================] - 29s 7ms/sample - loss: 1.2863 - acc: 0.8069 - val_loss: 0.8794 - val_acc: 0.9452\n",
      "Epoch 18/20\n",
      "3941/3941 [==============================] - 29s 7ms/sample - loss: 1.2828 - acc: 0.8069 - val_loss: 0.8849 - val_acc: 0.9432\n",
      "Epoch 19/20\n",
      "3941/3941 [==============================] - 29s 7ms/sample - loss: 1.2793 - acc: 0.8069 - val_loss: 0.8807 - val_acc: 0.9432\n",
      "Epoch 20/20\n",
      "3941/3941 [==============================] - 29s 7ms/sample - loss: 1.2758 - acc: 0.8069 - val_loss: 0.8871 - val_acc: 0.9432\n"
     ]
    }
   ],
   "source": [
    "img_clf.fit(x, y_train, batch_size=256, epochs=20, verbose=1,\n",
    "                        shuffle=True, validation_split=0.20)\n",
    "img_clf.save('../saved_model/img_clf.h5')"
   ]
  },
  {
   "cell_type": "code",
   "execution_count": null,
   "metadata": {},
   "outputs": [],
   "source": [
    "img_clf = tf.model.load('../saved_model/img_clf.h5')"
   ]
  }
 ],
 "metadata": {
  "kernelspec": {
   "display_name": "Python 3",
   "language": "python",
   "name": "python3"
  },
  "language_info": {
   "codemirror_mode": {
    "name": "ipython",
    "version": 3
   },
   "file_extension": ".py",
   "mimetype": "text/x-python",
   "name": "python",
   "nbconvert_exporter": "python",
   "pygments_lexer": "ipython3",
   "version": "3.5.3"
  }
 },
 "nbformat": 4,
 "nbformat_minor": 2
}
