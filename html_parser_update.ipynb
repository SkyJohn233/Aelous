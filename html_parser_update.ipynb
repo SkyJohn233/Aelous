{
 "cells": [
  {
   "cell_type": "code",
   "execution_count": 6,
   "metadata": {},
   "outputs": [],
   "source": [
    "from html.parser import HTMLParser\n",
    "\n",
    "class HtmlHandler(HTMLParser):\n",
    "    def reset(self):\n",
    "        self.inTitle = False\n",
    "        self.inPara = False\n",
    "        self.result = \"\"\n",
    "        self.ret = \"\"\n",
    "        HTMLParser.reset(self)\n",
    "    \n",
    "    def handle_starttag(self, tag, attrs):\n",
    "        if tag == \"title\":\n",
    "            self.inTitle = True\n",
    "        elif tag == \"p\":\n",
    "            self.inPara = True\n",
    "        # print(\"Encountered a start tag:\", tag)\n",
    "\n",
    "    def handle_endtag(self, tag):\n",
    "        if tag == \"title\":\n",
    "            self.inTitle = False\n",
    "        elif tag == \"p\":\n",
    "            self.inPara = False\n",
    "        # print(\"Encountered an end tag :\", tag)\n",
    "\n",
    "    def handle_data(self, data):\n",
    "        pflag = False\n",
    "        if self.inTitle or self.inPara:\n",
    "            for c in data:\n",
    "                if c != ' ' and c != '' and c != '\\n' and c != '\\t':\n",
    "                    pflag = True\n",
    "                    break\n",
    "            if pflag:\n",
    "                self.result += data\n",
    "                self.result += \" \"\n",
    "        # print(\"Encountered some data  :\", data)\n",
    "    \n",
    "    def ret_result(self):\n",
    "        for c in self.result:\n",
    "            if c != '\\n' and c != '\\t':\n",
    "                self.ret += c\n",
    "        return self.ret"
   ]
  }
 ],
 "metadata": {
  "kernelspec": {
   "display_name": "Python 3",
   "language": "python",
   "name": "python3"
  },
  "language_info": {
   "codemirror_mode": {
    "name": "ipython",
    "version": 3
   },
   "file_extension": ".py",
   "mimetype": "text/x-python",
   "name": "python",
   "nbconvert_exporter": "python",
   "pygments_lexer": "ipython3",
   "version": "3.5.3"
  }
 },
 "nbformat": 4,
 "nbformat_minor": 2
}
