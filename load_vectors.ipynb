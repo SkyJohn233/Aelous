{
 "cells": [
  {
   "cell_type": "code",
   "execution_count": 1,
   "metadata": {},
   "outputs": [
    {
     "name": "stderr",
     "output_type": "stream",
     "text": [
      "Using TensorFlow backend.\n"
     ]
    }
   ],
   "source": [
    "from keras.preprocessing import sequence\n",
    "import numpy as np\n",
    "import logging\n",
    "logging.basicConfig(format='%(asctime)s : %(levelname)s : %(message)s', level=logging.INFO)"
   ]
  },
  {
   "cell_type": "code",
   "execution_count": null,
   "metadata": {},
   "outputs": [],
   "source": [
    "maxlen = 300 # sequence 取到的长度，用于下面的padding\n",
    "input_dir = './vectors/'\n",
    "count = 0\n",
    "x = []"
   ]
  },
  {
   "cell_type": "code",
   "execution_count": null,
   "metadata": {},
   "outputs": [],
   "source": [
    "# 下面是按照listdir的顺序load vectors，实际应该要按数据对应的html文件的标号来load\n",
    "for file in os.listdir(input_dir):\n",
    "    count += 1\n",
    "    this_x = np.load(os.path.join(input_dir, file))\n",
    "    this_x = this_x.tolist()\n",
    "    x.append(this_x)\n",
    "    if count % 100 == 0:\n",
    "        logging.info('{} has loaded...'.format(count))\n",
    "print('load {} vectors done'.format(count))\n",
    "x = sequence.pad_sequences(x, maxlen=maxlen)"
   ]
  }
 ],
 "metadata": {
  "kernelspec": {
   "display_name": "Python 3",
   "language": "python",
   "name": "python3"
  },
  "language_info": {
   "codemirror_mode": {
    "name": "ipython",
    "version": 3
   },
   "file_extension": ".py",
   "mimetype": "text/x-python",
   "name": "python",
   "nbconvert_exporter": "python",
   "pygments_lexer": "ipython3",
   "version": "3.5.3"
  }
 },
 "nbformat": 4,
 "nbformat_minor": 2
}
